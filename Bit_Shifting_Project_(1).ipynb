{
  "cells": [
    {
      "cell_type": "markdown",
      "source": [
        "# THINGS TO DO: \n",
        "\n",
        "1. encrypt the zipped folder \n",
        "2. unencrypt zipped folder"
      ],
      "metadata": {
        "id": "JU-JoLqLoZXV"
      }
    },
    {
      "cell_type": "markdown",
      "metadata": {
        "id": "L5QHVC6PhNI9"
      },
      "source": [
        "#SHIFT BITS"
      ]
    },
    {
      "cell_type": "markdown",
      "source": [
        "you have to add bitshift.txt to the workspace for this to work. can be any txt file with any words inside of it"
      ],
      "metadata": {
        "id": "srV9qwUf5INp"
      }
    },
    {
      "cell_type": "code",
      "execution_count": 1,
      "metadata": {
        "colab": {
          "base_uri": "https://localhost:8080/"
        },
        "id": "rdHNGdt8GOQs",
        "outputId": "73182f82-8f05-4ed5-db7b-da7c32d3675b"
      },
      "outputs": [
        {
          "output_type": "stream",
          "name": "stdout",
          "text": [
            "Bit Shifting Done: File Obfuscated\n"
          ]
        }
      ],
      "source": [
        "\n",
        "### Function to perform the bit shifting operation ###\n",
        "def shift_bits(b_int):\n",
        "    return b_int << 1   # in order for the shifting to work correctly, the bits have to be shifted left first\n",
        "\n",
        "\n",
        "### Function to open file, read contents and create output file ###\n",
        "def prepareEncodeFile(filename):\n",
        "    with open(filename, 'rb') as openfile:\n",
        "        data = openfile.read()\n",
        "    outputfilename = ''.join(filename.split('.')[:-2]) + '.txt'\n",
        "    #print(outputfilename)\n",
        "    outputfilename = \"output\" + outputfilename # creates an output file named \"output.txt\"\n",
        "    #print(outputfilename)\n",
        "    with open(outputfilename, 'wb') as output:\n",
        "        for byte in data:\n",
        "            output.write(bytes([shift_bits(byte)]))\n",
        "    return outputfilename\n",
        "\n",
        "\n",
        "### MAIN ###\n",
        "filename = r'/content/bitshift.txt' # file to be bit shifted              \n",
        "outputfilename = prepareEncodeFile(filename)  # runs the logic of the program\n",
        "print('Bit Shifting Done: File Obfuscated') # Tells the user that the shift is completed "
      ]
    },
    {
      "cell_type": "markdown",
      "metadata": {
        "id": "9UNDo-IkhLUT"
      },
      "source": [
        "#SHIFT BITS BACK "
      ]
    },
    {
      "cell_type": "markdown",
      "source": [
        "after you run, you will see a file called output2.txt. This demonstrates the output as it is being decoded from the encoded file. This text file should look exactly like the bitshift.txt that you added previously."
      ],
      "metadata": {
        "id": "NAqiBzaW5WlN"
      }
    },
    {
      "cell_type": "code",
      "execution_count": 2,
      "metadata": {
        "colab": {
          "base_uri": "https://localhost:8080/"
        },
        "id": "sTqy3URQgcg_",
        "outputId": "1dee8909-5170-4c1f-afa1-930c4ef52c6f"
      },
      "outputs": [
        {
          "output_type": "stream",
          "name": "stdout",
          "text": [
            "output2.txt\n",
            "done\n"
          ]
        }
      ],
      "source": [
        "def shift_bits_back(b_int):\n",
        "    return b_int >> 1\n",
        "\n",
        "def decodeFile(filename):\n",
        "    with open(filename, 'rb') as openfile:\n",
        "        data = openfile.read()\n",
        "    outputfilename = ''.join(filename.split('.')[:-2]) + '.txt'\n",
        "    #print(outputfilename)\n",
        "    outputfilename = \"output2\" + outputfilename\n",
        "    print(outputfilename)\n",
        "    with open(outputfilename, 'wb') as output:\n",
        "        for byte in data:\n",
        "            output.write(bytes([shift_bits_back(byte)]))\n",
        "\n",
        "filename = r'/content/output.txt'\n",
        "decodeFile(filename)\n",
        "print('done')   "
      ]
    },
    {
      "cell_type": "markdown",
      "metadata": {
        "id": "PgCiQ4Q_KF7S"
      },
      "source": [
        "# Encode file and then decode"
      ]
    },
    {
      "cell_type": "markdown",
      "metadata": {
        "id": "TXXNJN4FLAdg"
      },
      "source": [
        "##### Here we can see that the concept of shifting bits over and then shifting them back works. We start with the bitshift.txt that contains \"Hello World\". This will then be encoded using bit shifting into the encode.txt. The program will then decode the file and send the clear text \"hello world\" back into the decode.txt"
      ]
    },
    {
      "cell_type": "markdown",
      "source": [
        "This just puts the two previous steps together into one cell"
      ],
      "metadata": {
        "id": "-8DAD9hJ5odS"
      }
    },
    {
      "cell_type": "code",
      "execution_count": 3,
      "metadata": {
        "colab": {
          "base_uri": "https://localhost:8080/"
        },
        "id": "5pgaa3ggKHSb",
        "outputId": "8fa71fa9-4378-4e90-95f0-2b97f8c84c49"
      },
      "outputs": [
        {
          "output_type": "stream",
          "name": "stdout",
          "text": [
            "Bit Shifting Done: File Obfuscated\n",
            " \n",
            " \n",
            "Bit Shifting Done: File Decoded\n"
          ]
        }
      ],
      "source": [
        "from time import sleep\n",
        "\n",
        "### Function to perform the bit shifting operation to encode file ###\n",
        "def shift_bits(b_int):\n",
        "    return b_int << 1   # in order for the shifting to work correctly, the bits have to be shifted left first\n",
        "\n",
        "### Function to perform the bit shifting operation to decode file ###\n",
        "def shift_bits_back(b_int):\n",
        "    return b_int >> 1\n",
        "\n",
        "### Function to open file, read contents and create output file ###\n",
        "def prepareEncodeFile(filename):\n",
        "    with open(filename, 'rb') as openfile:\n",
        "        data = openfile.read()\n",
        "    outputfilename = ''.join(filename.split('.')[:-2]) + '.txt'\n",
        "    #print(outputfilename)\n",
        "    outputfilename = \"encoded\" + outputfilename # creates an output file named \"encoded.txt\"\n",
        "    #print(outputfilename)\n",
        "    with open(outputfilename, 'wb') as output:\n",
        "        for byte in data:\n",
        "            output.write(bytes([shift_bits(byte)]))\n",
        "    return outputfilename\n",
        "\n",
        "### Decode the file ###\n",
        "def decodeFile(filename):\n",
        "    with open(filename, 'rb') as openfile:\n",
        "        data = openfile.read()\n",
        "    outputfilename = ''.join(filename.split('.')[:-2]) + '.txt'\n",
        "    outputfilename = \"decoded\" + outputfilename # creates an output file named \"decoded.txt\"\n",
        "    with open(outputfilename, 'wb') as output:\n",
        "        for byte in data:\n",
        "            output.write(bytes([shift_bits_back(byte)]))\n",
        "\n",
        "\n",
        "### MAIN ###\n",
        "# Read the file currently at\n",
        "filename = r'/content/bitshift.txt' # file to be bit shifted\n",
        "outputfilename = prepareEncodeFile(filename)  # runs the logic of the program\n",
        "print('Bit Shifting Done: File Obfuscated') # Tells the user that the shift is completed \n",
        "\n",
        "#pause for dramatic effect\n",
        "sleep(3)\n",
        "print(' ')\n",
        "print(' ')\n",
        "\n",
        "#decode the file\n",
        "decodeFile(outputfilename)\n",
        "print('Bit Shifting Done: File Decoded')"
      ]
    },
    {
      "cell_type": "markdown",
      "metadata": {
        "id": "15EEnjrLM2Jc"
      },
      "source": [
        "# ENCODE FILES FROM DIR AND ZIP "
      ]
    },
    {
      "cell_type": "markdown",
      "metadata": {
        "id": "rxJswb3FM6ec"
      },
      "source": [
        "#### Now we have seen that we can actually obfuscate a file using bit shifting, and then very easily shift it back into clear text. Let us try something a little more complex now! \n",
        "\n",
        "Lets try to read through every file in a dir and bit shift each one and then send it to a compressed (zip) file. Here goes nothing! "
      ]
    },
    {
      "cell_type": "code",
      "execution_count": 9,
      "metadata": {
        "colab": {
          "base_uri": "https://localhost:8080/"
        },
        "id": "qIkQjnHrM58v",
        "outputId": "e26708f2-68e5-43b2-c7bf-29134e19720d"
      },
      "outputs": [
        {
          "output_type": "stream",
          "name": "stdout",
          "text": [
            " WARNING: FOLDER CHOSEN WILL BE ENCODED AND ZIPPED. ALL CLEARTEXT WILL BE DELETED.\n",
            "             ALL DATA WILL BE ENCODED, DELETING ORIGINAL CLEARTEXT\n",
            " \n",
            " \n",
            " \n",
            "Enter the dir you want to encode using bit shifting: /content/drive/MyDrive/EncodeTheseBOIS\n",
            "File: 123124531.txt is being encoded. . .\n",
            "Bit Shifting Done for: 123124531.txt\n",
            " \n",
            "File: file1.txt is being encoded. . .\n",
            "Bit Shifting Done for: file1.txt\n",
            " \n",
            "File: anotherFileHere.txt is being encoded. . .\n",
            "Bit Shifting Done for: anotherFileHere.txt\n",
            " \n",
            "File: file2.txt is being encoded. . .\n",
            "Bit Shifting Done for: file2.txt\n",
            " \n",
            "File: bitshift.txt is being encoded. . .\n",
            "Bit Shifting Done for: bitshift.txt\n",
            " \n",
            "File: a file with spaces.txt is being encoded. . .\n",
            "Bit Shifting Done for: a file with spaces.txt\n",
            " \n",
            "All uncoded files removed from Dir. \n",
            " \n",
            "Enter path to save zipped folder: /content/zippedFolder\n",
            "Sent to ZIP: 123124531.txt (ENCODED)\n",
            "Sent to ZIP: file1.txt (ENCODED)\n",
            "Sent to ZIP: anotherFileHere.txt (ENCODED)\n",
            "Sent to ZIP: file2.txt (ENCODED)\n",
            "Sent to ZIP: bitshift.txt (ENCODED)\n",
            "Sent to ZIP: a file with spaces.txt (ENCODED)\n",
            " \n",
            "Encoded File has been zipped\n",
            " \n",
            "Do you want the old unzipped folder destroyed? Answer 'yes' or 'no'.\n",
            "PATH: /content/drive/MyDrive/EncodeTheseBOIS\n",
            "the dir contains:\n",
            "['123124531.txt (ENCODED)', 'file1.txt (ENCODED)', 'anotherFileHere.txt (ENCODED)', 'file2.txt (ENCODED)', 'bitshift.txt (ENCODED)', 'a file with spaces.txt (ENCODED)']\n",
            "Delete this folder? no\n",
            " \n",
            "The folder will not be deleted.\n",
            " \n",
            "Program has finished execution. The file is now encoded and zipped.\n"
          ]
        }
      ],
      "source": [
        "from time import sleep\n",
        "from zipfile import ZipFile\n",
        "import os\n",
        "\n",
        "### Function to perform the bit shifting operation to encode file ###\n",
        "def shift_bits(b_int):\n",
        "    return b_int << 1   # in order for the shifting to work correctly, the bits have to be shifted left first\n",
        "\n",
        "### Function to open file, read contents and create output file ###\n",
        "def prepareEncodeFile(filename, path):\n",
        "    filename = path + '/' +filename\n",
        "    with open(filename, 'rb') as openfile:\n",
        "        data = openfile.read()\n",
        "    outputfilename = ''.join(filename.split('.')[:-2]) + '.txt'  \n",
        "    #print(outputfilename)\n",
        "\n",
        "    outputfilename = filename + ' (ENCODED)' \n",
        "\n",
        "    with open(outputfilename, 'wb') as output:\n",
        "        for byte in data:\n",
        "            output.write(bytes([shift_bits(byte)]))\n",
        "    return outputfilename\n",
        "\n",
        "\n",
        "### opens the specified dir and reads all the files inside of that dir ###\n",
        "def readDir(path):\n",
        "    # path is a directory of which you want to list\n",
        "    dir = os.listdir(path)\n",
        "\n",
        "    # For each file that we find in our dir, we are going to want to encode it using bit shifting\n",
        "    for file in dir:\n",
        "      print(\"File: \" + file + \" is being encoded. . .\")  # prints to the user which file is now being encrypted\n",
        "      outputfilename = prepareEncodeFile(file, path)  # runs the logic of the program\n",
        "      sleep(1) # pause for effect                                                                                                 \n",
        "      print('Bit Shifting Done for: ' + file) # Tells the user that the shift is completed \n",
        "      print(' ')\n",
        "\n",
        "def removeOriginalFiles(path):\n",
        "    dir = os.listdir(path)\n",
        "    for file in dir:\n",
        "        if file.endswith('(ENCODED)'): # if the file does not end with (ENCODED) then we will want to delete it. \n",
        "          sleep(.05)\n",
        "        else:\n",
        "          deleteLocation = os.path.join(path, file)\n",
        "          os.remove(deleteLocation)\n",
        "    print('All uncoded files removed from Dir. ')\n",
        "    print(' ')\n",
        "\n",
        "\n",
        "### Zips the encoded file for the user ###\n",
        "def zipFile(path):                                                                         \n",
        "    # Change to that dir to do this? \n",
        "    os.chdir(path) # changes to the path where our lovely encoded txt files are...\n",
        "    #print(\"PWD: \" + os.getcwd()) #used to make sure we are in the correct dir for the unzip part\n",
        "    #print(' ')\n",
        "    zipLocation = input(\"Enter path to save zipped folder: \")\n",
        "\n",
        "    # Create a ZipFile Object\n",
        "    with ZipFile(zipLocation, 'w') as zipObj1:                                             # the output of where the zipped folder will go: /content/EncodedZippedFile.zip\n",
        "        dir = os.listdir(path)\n",
        "        #print(dir)\n",
        "        for file in dir:\n",
        "            print(\"Sent to ZIP: \" + file)\n",
        "            zipObj1.write(file)   # zips the file location  \n",
        "    # close the Zip File\n",
        "    zipObj1.close()\n",
        "    print(' ')\n",
        "    print(\"Encoded File has been zipped\")\n",
        "    print(' ')\n",
        "\n",
        "def deleteOldFolder(path):\n",
        "    dir = os.listdir(path)\n",
        "    for file in dir:  \n",
        "          os.remove(file) #first delete all the old files from the dir \n",
        "    print('All files removed')\n",
        "\n",
        "    # now remove the empty dir  \n",
        "    os.rmdir(path) \n",
        "    print('Old unzipped Dir deleted.')\n",
        "    print(' ')\n",
        "\n",
        "def encodeZippedFolder():\n",
        "    print('This will now encrypt the zipped folder..')\n",
        "    print('This functionality does not exist yet :/ Come back later...')\n",
        "    print(' ')\n",
        "    \n",
        "\n",
        "### MAIN ###\n",
        "\n",
        "# these warning are here because the program will delete the original data after it is encoded\n",
        "print(' WARNING: FOLDER CHOSEN WILL BE ENCODED AND ZIPPED. ALL CLEARTEXT WILL BE DELETED.')\n",
        "print('             ALL DATA WILL BE ENCODED, DELETING ORIGINAL CLEARTEXT')                                \n",
        "print(' ')\n",
        "print(' ')\n",
        "print(' ')\n",
        "\n",
        "\n",
        "path = input(\"Enter the dir you want to encode using bit shifting: \") # grab the dir name from the user\n",
        "\n",
        "#path = r\"/content/drive/MyDrive/EncodeTheseBOIS\"   # The path to the dir which contains the files we want to bit shift. (for testing purposes it is hardcoded)\n",
        "\n",
        "readDir(path)  # encypts the each file within the specified dir\n",
        "removeOriginalFiles(path) # remove the original file from the dir here so that the uncoded txt is not there anymore (that would be awkward)\n",
        "zipFile(path) #zips the file for the user now that all the files inside have been encrypted.\n",
        "\n",
        "# probably want something here that deletes the old folder (that is unzipped) \n",
        "print(\"Do you want the old unzipped folder destroyed? Answer 'yes' or 'no'.\") \n",
        "print('PATH: ' + path)\n",
        "print('the dir contains:')\n",
        "print(os.listdir(path))\n",
        "ans = input(\"Delete this folder? \") # grab the dir name from the user\n",
        "print(' ')\n",
        "if ans == 'yes' or ans == 'y' or ans == 'Y' or ans == 'Yes':\n",
        "  deleteOldFolder(path)\n",
        "else:\n",
        "  print(\"The folder will not be deleted.\")\n",
        "  print(' ')\n",
        "\n",
        "# now we want to ecrypt the zipped folder here....\n",
        "#encodeZippedFolder()\n",
        "\n",
        "print('Program has finished execution. The file is now encoded and zipped.')\n"
      ]
    },
    {
      "cell_type": "code",
      "source": [
        "import os\n",
        "path = r\"/content/drive/MyDrive/EncodeTheseBOIS\"\n",
        "print(path)\n",
        "dir = os.listdir(path)\n",
        "print(dir)\n",
        "for file in dir:\n",
        "      print(\"File: \" + file)"
      ],
      "metadata": {
        "colab": {
          "base_uri": "https://localhost:8080/"
        },
        "id": "JHzaPc4nnDq6",
        "outputId": "37c04fcc-77a4-4d4f-b7d2-9b57f3466df4"
      },
      "execution_count": 10,
      "outputs": [
        {
          "output_type": "stream",
          "name": "stdout",
          "text": [
            "/content/drive/MyDrive/EncodeTheseBOIS\n",
            "['123124531.txt (ENCODED)', 'file1.txt (ENCODED)', 'anotherFileHere.txt (ENCODED)', 'file2.txt (ENCODED)', 'bitshift.txt (ENCODED)', 'a file with spaces.txt (ENCODED)']\n",
            "File: 123124531.txt (ENCODED)\n",
            "File: file1.txt (ENCODED)\n",
            "File: anotherFileHere.txt (ENCODED)\n",
            "File: file2.txt (ENCODED)\n",
            "File: bitshift.txt (ENCODED)\n",
            "File: a file with spaces.txt (ENCODED)\n"
          ]
        }
      ]
    },
    {
      "cell_type": "markdown",
      "source": [
        "# Decode Zip File / Extract Zip / Decode files inside "
      ],
      "metadata": {
        "id": "oxPCmK8UfkhX"
      }
    },
    {
      "cell_type": "markdown",
      "source": [
        "#### Now that we have been able to get everything encoded, we now want to take that and try to decode it back into its original clear text format. In order to do this, we just backtrack the same things that we did previously, with a few changes."
      ],
      "metadata": {
        "id": "fpIyzgMKfxKp"
      }
    },
    {
      "cell_type": "code",
      "source": [
        "from time import sleep\n",
        "from zipfile import ZipFile\n",
        "import os\n",
        "\n",
        "### Function to perform the bit shifting operation to decode file ###\n",
        "def shift_bits_back(b_int):\n",
        "    return b_int >> 1\n",
        "\n",
        "### Function to open file, read contents and create output file ###\n",
        "def decodeFile(filename, path):\n",
        "    filename = path + '/' + filename\n",
        "    with open(filename, 'rb') as openfile:\n",
        "        data = openfile.read()\n",
        "    outputfilename = ''.join(filename.split('.')[:-2]) + '.txt'\n",
        "    outputfilename = filename.replace(' (ENCODED)', '')\n",
        "    print(outputfilename)\n",
        "    with open(outputfilename, 'wb') as output:\n",
        "        for byte in data:\n",
        "            output.write(bytes([shift_bits_back(byte)]))\n",
        "    return outputfilename\n",
        "\n",
        "\n",
        "### opens the specified dir and reads all the files inside of that dir ###\n",
        "def readDir(path):\n",
        "    # path is a directory of which you want to list\n",
        "    dir = os.listdir(path)\n",
        "\n",
        "    # For each file that we find in our dir, we are going to want to encode it using bit shifting\n",
        "    for file in dir:\n",
        "      print(\"File: \" + file + \" is being decoded. . .\")  # prints to the user which file is now being encrypted\n",
        "      outputfilename = decodeFile(file, path)  # runs the logic of the program\n",
        "      sleep(1) # pause for effect                                                                                                 \n",
        "      print('Bit Shifting Done for: ' + file) # Tells the user that the shift is completed \n",
        "      print(' ')\n",
        "\n",
        "def removeOriginalFiles(path):\n",
        "    dir = os.listdir(path)\n",
        "    for file in dir:\n",
        "        if file.endswith('(ENCODED)'): # if the file does not end with (ENCODED) then we will want to delete it. \n",
        "            deleteLocation = os.path.join(path, file)\n",
        "            os.remove(deleteLocation)\n",
        "            sleep(.05)        \n",
        "    print('All encoded files removed. ')\n",
        "    print(' ')\n",
        "\n",
        "\n",
        "### Zips the encoded file for the user ###\n",
        "def unzipFile(path):                                                                         \n",
        "    # Change to that dir to do this? \n",
        "    #os.chdir('/content/') # changes to the path where our lovely encoded txt files are...                     #changes to the base folder... might have to rework.. will need to test this more\n",
        "    print(\"PWD: \" + os.getcwd())      \n",
        "    # opening the zip file in READ mode\n",
        "    with ZipFile(path, 'r') as zip:\n",
        "        zip.printdir() # printing all the contents of the zip file\n",
        "        print(' ')\n",
        "\n",
        "        # extracting all the files\n",
        "        path = input(\"Enter the location you wish the file to be extracted to: \")     \n",
        "        zip.extractall(path)            \n",
        "                                                                          \n",
        "        print('Extracting all the files now...')\n",
        "        print(' ')\n",
        "        sleep(1) # pause for effect\n",
        "        print('Files extracted to: ' + path)\n",
        "        print(' ')\n",
        "    return path               #this returns the new path where the extracted dir has been made\n",
        "\n",
        "def decodeZippedFolder():\n",
        "    print('This will now encrypt the zipped folder..')\n",
        "    print('This functionality does not exist yet :/ Come back later...')\n",
        "    \n",
        "\n",
        "### MAIN ###\n",
        "\n",
        "\n",
        "path = input(\"Enter the ZIPPED DIR you want to decode using bit shifting: \") # grab the dir name from the user\n",
        "\n",
        "# path = r\"/content/EncodedZippedFile.zip\"   # The path to the dir which contains the files we want to bit shift. (for testing purposes it is hardcoded)\n",
        "\n",
        "#decodeZippedFolder()\n",
        "path = unzipFile(path) #zips the file for the user now that all the files inside have been encrypted.\n",
        "readDir(path)  # encypts the each file within the specified dir\n",
        "removeOriginalFiles(path) # remove the original file from the dir here so that the uncoded txt is not there anymore (that would be awkward)\n",
        "\n",
        "print('Program has finished execution. The file is now encoded and zipped.')\n"
      ],
      "metadata": {
        "id": "vVD-RN3jfwwA",
        "colab": {
          "base_uri": "https://localhost:8080/"
        },
        "outputId": "43f80353-6e4d-457d-a1a3-f728df17aa27"
      },
      "execution_count": 11,
      "outputs": [
        {
          "output_type": "stream",
          "name": "stdout",
          "text": [
            "Enter the ZIPPED DIR you want to decode using bit shifting: /content/zippedFolder\n",
            "PWD: /content/drive/MyDrive/EncodeTheseBOIS\n",
            "File Name                                             Modified             Size\n",
            "123124531.txt (ENCODED)                        2022-01-04 16:16:08           15\n",
            "file1.txt (ENCODED)                            2022-01-04 16:16:10           45\n",
            "anotherFileHere.txt (ENCODED)                  2022-01-04 16:16:10           92\n",
            "file2.txt (ENCODED)                            2022-01-04 16:16:12           45\n",
            "bitshift.txt (ENCODED)                         2022-01-04 16:16:12          286\n",
            "a file with spaces.txt (ENCODED)               2022-01-04 16:16:14           65\n",
            " \n",
            "Enter the location you wish the file to be extracted to: /content/Unzipped\n",
            "Extracting all the files now...\n",
            " \n",
            "Files extracted to: /content/Unzipped\n",
            " \n",
            "File: 123124531.txt (ENCODED) is being decoded. . .\n",
            "/content/Unzipped/123124531.txt\n",
            "Bit Shifting Done for: 123124531.txt (ENCODED)\n",
            " \n",
            "File: file1.txt (ENCODED) is being decoded. . .\n",
            "/content/Unzipped/file1.txt\n",
            "Bit Shifting Done for: file1.txt (ENCODED)\n",
            " \n",
            "File: a file with spaces.txt (ENCODED) is being decoded. . .\n",
            "/content/Unzipped/a file with spaces.txt\n",
            "Bit Shifting Done for: a file with spaces.txt (ENCODED)\n",
            " \n",
            "File: file2.txt (ENCODED) is being decoded. . .\n",
            "/content/Unzipped/file2.txt\n",
            "Bit Shifting Done for: file2.txt (ENCODED)\n",
            " \n",
            "File: anotherFileHere.txt (ENCODED) is being decoded. . .\n",
            "/content/Unzipped/anotherFileHere.txt\n",
            "Bit Shifting Done for: anotherFileHere.txt (ENCODED)\n",
            " \n",
            "File: bitshift.txt (ENCODED) is being decoded. . .\n",
            "/content/Unzipped/bitshift.txt\n",
            "Bit Shifting Done for: bitshift.txt (ENCODED)\n",
            " \n",
            "All encoded files removed. \n",
            " \n",
            "Program has finished execution. The file is now encoded and zipped.\n"
          ]
        }
      ]
    },
    {
      "cell_type": "markdown",
      "source": [
        "# Final Application"
      ],
      "metadata": {
        "id": "k7QuVnRixgmN"
      }
    },
    {
      "cell_type": "markdown",
      "source": [
        "#### now that we have all the peices that we need to encode / zip and unzip / decode, we can now put this into a single cell, allowing the user to choose what operations they wish to perform."
      ],
      "metadata": {
        "id": "1J_fMNgxxkxr"
      }
    },
    {
      "cell_type": "code",
      "source": [
        "from time import sleep\n",
        "from zipfile import ZipFile\n",
        "import os\n",
        "\n",
        "### Function to perform the bit shifting operation to encode file ###\n",
        "def shift_bits(b_int):\n",
        "    return b_int << 1   # in order for the shifting to work correctly, the bits have to be shifted left first\n",
        "\n",
        "### Function to open file, read contents and create output file ###\n",
        "def prepareEncodeFile(filename, path):\n",
        "    filename = path + '/' +filename\n",
        "    with open(filename, 'rb') as openfile:\n",
        "        data = openfile.read()\n",
        "    outputfilename = ''.join(filename.split('.')[:-2]) + '.txt'  \n",
        "    #print(outputfilename)\n",
        "\n",
        "    outputfilename = filename + ' (ENCODED)' \n",
        "\n",
        "    with open(outputfilename, 'wb') as output:\n",
        "        for byte in data:\n",
        "            output.write(bytes([shift_bits(byte)]))\n",
        "    return outputfilename\n",
        "\n",
        "\n",
        "### opens the specified dir and reads all the files inside of that dir ###\n",
        "def readDir(path):\n",
        "    # path is a directory of which you want to list\n",
        "    dir = os.listdir(path)\n",
        "\n",
        "    # For each file that we find in our dir, we are going to want to encode it using bit shifting\n",
        "    for file in dir:\n",
        "      print(\"File: \" + file + \" is being encoded. . .\")  # prints to the user which file is now being encrypted\n",
        "      outputfilename = prepareEncodeFile(file, path)  # runs the logic of the program\n",
        "      sleep(1) # pause for effect                                                                                                 \n",
        "      print('Bit Shifting Done for: ' + file) # Tells the user that the shift is completed \n",
        "      print(' ')\n",
        "\n",
        "def removeOriginalFiles(path):\n",
        "    dir = os.listdir(path)\n",
        "    for file in dir:\n",
        "        if file.endswith('(ENCODED)'): # if the file does not end with (ENCODED) then we will want to delete it. \n",
        "          sleep(.05)\n",
        "        else:\n",
        "          deleteLocation = os.path.join(path, file)\n",
        "          os.remove(deleteLocation)\n",
        "    print('All uncoded files removed from Dir. ')\n",
        "    print(' ')\n",
        "\n",
        "\n",
        "### Zips the encoded file for the user ###\n",
        "def zipFile(path):                                                                         \n",
        "    # Change to that dir to do this? \n",
        "    os.chdir(path) # changes to the path where our lovely encoded txt files are...\n",
        "    #print(\"PWD: \" + os.getcwd()) #used to make sure we are in the correct dir for the unzip part\n",
        "    #print(' ')\n",
        "    zipLocation = input(\"Enter path to save zipped folder: \")\n",
        "\n",
        "    # Create a ZipFile Object\n",
        "    with ZipFile(zipLocation, 'w') as zipObj1:                                             # the output of where the zipped folder will go: /content/EncodedZippedFile.zip\n",
        "        dir = os.listdir(path)\n",
        "        #print(dir)\n",
        "        for file in dir:\n",
        "            print(\"Sent to ZIP: \" + file)\n",
        "            zipObj1.write(file)   # zips the file location  \n",
        "    # close the Zip File\n",
        "    zipObj1.close()\n",
        "    print(' ')\n",
        "    print(\"Encoded File has been zipped\")\n",
        "    print(' ')\n",
        "\n",
        "def deleteOldFolder(path):\n",
        "    dir = os.listdir(path)\n",
        "    for file in dir:  \n",
        "          os.remove(file) #first delete all the old files from the dir \n",
        "    print('All files removed')\n",
        "\n",
        "    # now remove the empty dir  \n",
        "    os.rmdir(path) \n",
        "    print('Old unzipped Dir deleted.')\n",
        "    print(' ')\n",
        "\n",
        "def encodeZippedFolder():\n",
        "    print('This will now encrypt the zipped folder..')\n",
        "    print('This functionality does not exist yet :/ Come back later...')\n",
        "    print(' ')\n",
        "\n",
        "### Function to perform the bit shifting operation to decode file ###\n",
        "def shift_bits_back(b_int):\n",
        "    return b_int >> 1\n",
        "\n",
        "### Function to open file, read contents and create output file ###\n",
        "def decodeFile(filename, path):\n",
        "    filename = path + '/' + filename\n",
        "    with open(filename, 'rb') as openfile:\n",
        "        data = openfile.read()\n",
        "    outputfilename = ''.join(filename.split('.')[:-2]) + '.txt'\n",
        "    outputfilename = filename.replace(' (ENCODED)', '')\n",
        "    print(outputfilename)\n",
        "    with open(outputfilename, 'wb') as output:\n",
        "        for byte in data:\n",
        "            output.write(bytes([shift_bits_back(byte)]))\n",
        "    return outputfilename\n",
        "\n",
        "\n",
        "### opens the specified dir and reads all the files inside of that dir ###\n",
        "def readDir2(path):\n",
        "    # path is a directory of which you want to list\n",
        "    dir = os.listdir(path)\n",
        "\n",
        "    # For each file that we find in our dir, we are going to want to encode it using bit shifting\n",
        "    for file in dir:\n",
        "      print(\"File: \" + file + \" is being decoded. . .\")  # prints to the user which file is now being encrypted\n",
        "      outputfilename = decodeFile(file, path)  # runs the logic of the program\n",
        "      sleep(1) # pause for effect                                                                                                 \n",
        "      print('Bit Shifting Done for: ' + file) # Tells the user that the shift is completed \n",
        "      print(' ')\n",
        "\n",
        "def removeOriginalFiles2(path):\n",
        "    dir = os.listdir(path)\n",
        "    for file in dir:\n",
        "        if file.endswith('(ENCODED)'): # if the file does not end with (ENCODED) then we will want to delete it. \n",
        "            deleteLocation = os.path.join(path, file)\n",
        "            os.remove(deleteLocation)\n",
        "            sleep(.05)        \n",
        "    print('All encoded files removed. ')\n",
        "    print(' ')\n",
        "\n",
        "\n",
        "### Zips the encoded file for the user ###\n",
        "def unzipFile(path):                                                                         \n",
        "    # Change to that dir to do this? \n",
        "    #os.chdir('/content/') # changes to the path where our lovely encoded txt files are...                     #changes to the base folder... might have to rework.. will need to test this more\n",
        "    print(\"PWD: \" + os.getcwd())      \n",
        "    # opening the zip file in READ mode\n",
        "    with ZipFile(path, 'r') as zip:\n",
        "        zip.printdir() # printing all the contents of the zip file\n",
        "        print(' ')\n",
        "\n",
        "        # extracting all the files\n",
        "        path = input(\"Enter the location you wish the file to be extracted to: \")     \n",
        "        zip.extractall(path)            \n",
        "                                                                          \n",
        "        print('Extracting all the files now...')\n",
        "        print(' ')\n",
        "        sleep(1) # pause for effect\n",
        "        print('Files extracted to: ' + path)\n",
        "        print(' ')\n",
        "    return path               #this returns the new path where the extracted dir has been made\n",
        "\n",
        "def decodeZippedFolder():\n",
        "    print('This will now encrypt the zipped folder..')\n",
        "    print('This functionality does not exist yet :/ Come back later...')\n",
        "    \n",
        "\n",
        "### MAIN ###\n",
        "print(\"                Welcome to the Bit Shifting Obfuscation program.\")\n",
        "print(\"There are two functions that this program can perform. Type 'help' to see more info\")\n",
        "operation = input(\"Which bit shifting operation would you like to perform? Enter 'encode' or 'decode'. \")\n",
        "\n",
        "if operation == '1' or operation == 'encode' or operation == 'Encode' or operation == 'e' or operation == 'E':\n",
        "    # these warning are here because the program will delete the original data after it is encoded\n",
        "    print(' WARNING: FOLDER CHOSEN WILL BE ENCODED AND ZIPPED. ALL CLEARTEXT WILL BE DELETED.')\n",
        "    print('             ALL DATA WILL BE ENCODED, DELETING ORIGINAL CLEARTEXT')                                \n",
        "    print(' ')\n",
        "    print(' ')\n",
        "    print(' ')\n",
        "\n",
        "\n",
        "    path = input(\"Enter the dir you want to encode using bit shifting: \") # grab the dir name from the user\n",
        "\n",
        "    #path = r\"/content/drive/MyDrive/EncodeTheseBOIS\"   # The path to the dir which contains the files we want to bit shift. (for testing purposes it is hardcoded)\n",
        "\n",
        "    readDir(path)  # encypts the each file within the specified dir\n",
        "    removeOriginalFiles(path) # remove the original file from the dir here so that the uncoded txt is not there anymore (that would be awkward)\n",
        "    zipFile(path) #zips the file for the user now that all the files inside have been encrypted.\n",
        "\n",
        "    # probably want something here that deletes the old folder (that is unzipped) \n",
        "    print(\"Do you want the old unzipped folder destroyed? Answer 'yes' or 'no'.\") \n",
        "    print('PATH: ' + path)\n",
        "    print('the dir contains:')\n",
        "    print(os.listdir(path))\n",
        "    ans = input(\"Delete this folder? \") # grab the dir name from the user\n",
        "    print(' ')\n",
        "    if ans == 'yes' or ans == 'y' or ans == 'Y' or ans == 'Yes':\n",
        "      deleteOldFolder(path)\n",
        "    else:\n",
        "      print(\"The folder will not be deleted.\")\n",
        "      print(' ')\n",
        "\n",
        "    # now we want to ecrypt the zipped folder here....\n",
        "    #encodeZippedFolder()\n",
        "\n",
        "    print('Program has finished execution. The file is now encoded and zipped.')\n",
        "\n",
        "if operation == '2' or operation == 'decode' or operation == 'Decode' or operation == 'd' or operation == 'D':\n",
        "    path = input(\"Enter the ZIPPED DIR you want to decode using bit shifting: \") # grab the dir name from the user\n",
        "\n",
        "    # path = r\"/content/EncodedZippedFile.zip\"   # The path to the dir which contains the files we want to bit shift. (for testing purposes it is hardcoded)\n",
        "\n",
        "    #decodeZippedFolder()\n",
        "    path = unzipFile(path) #zips the file for the user now that all the files inside have been encrypted.\n",
        "    readDir2(path)  # encypts the each file within the specified dir\n",
        "    removeOriginalFiles2(path) # remove the original file from the dir here so that the uncoded txt is not there anymore (that would be awkward)\n",
        "\n",
        "    print('Program has finished execution. The file is now encoded and zipped.')\n",
        "\n",
        "if operation == 'h' or operation == 'help' or operation == 'Help' or operation == '3':\n",
        "    print('This program seeks to obfuscate a file by shifting each byte in the txt file, making the cleartext completely unreadable. ')\n",
        "    print(\"During the execution of the 'ENCODE' function, the dir's contents will be encoded, the cleartext deleted and the file will be zipped.\")\n",
        "    print(' ')\n",
        "\n",
        "    print(\"During the execution of the 'DECODE' function, the dir's contents will be unzipped, decoded and restored to the original cleartext state.\")\n",
        "    print(\"To run the program, restart and type either 'encode' or 'decode', depending on what you want to do.\")\n",
        "    print(' ')\n",
        "\n",
        "else:\n",
        "  print(\"Invalid entry. Please restart and type 'help' for more options.\")\n"
      ],
      "metadata": {
        "colab": {
          "base_uri": "https://localhost:8080/",
          "height": 571
        },
        "id": "RXhosnjWxj5Y",
        "outputId": "3771fe39-9ecb-4ff9-8b1d-a90f8a98f22b"
      },
      "execution_count": 12,
      "outputs": [
        {
          "output_type": "stream",
          "name": "stdout",
          "text": [
            "                Welcome to the Bit Shifting Obfuscation program.\n",
            "There are two functions that this program can perform. Type 'help' to see more info\n"
          ]
        },
        {
          "output_type": "error",
          "ename": "KeyboardInterrupt",
          "evalue": "ignored",
          "traceback": [
            "\u001b[0;31m---------------------------------------------------------------------------\u001b[0m",
            "\u001b[0;31mKeyboardInterrupt\u001b[0m                         Traceback (most recent call last)",
            "\u001b[0;32m/usr/local/lib/python3.7/dist-packages/ipykernel/kernelbase.py\u001b[0m in \u001b[0;36m_input_request\u001b[0;34m(self, prompt, ident, parent, password)\u001b[0m\n\u001b[1;32m    728\u001b[0m             \u001b[0;32mtry\u001b[0m\u001b[0;34m:\u001b[0m\u001b[0;34m\u001b[0m\u001b[0;34m\u001b[0m\u001b[0m\n\u001b[0;32m--> 729\u001b[0;31m                 \u001b[0mident\u001b[0m\u001b[0;34m,\u001b[0m \u001b[0mreply\u001b[0m \u001b[0;34m=\u001b[0m \u001b[0mself\u001b[0m\u001b[0;34m.\u001b[0m\u001b[0msession\u001b[0m\u001b[0;34m.\u001b[0m\u001b[0mrecv\u001b[0m\u001b[0;34m(\u001b[0m\u001b[0mself\u001b[0m\u001b[0;34m.\u001b[0m\u001b[0mstdin_socket\u001b[0m\u001b[0;34m,\u001b[0m \u001b[0;36m0\u001b[0m\u001b[0;34m)\u001b[0m\u001b[0;34m\u001b[0m\u001b[0;34m\u001b[0m\u001b[0m\n\u001b[0m\u001b[1;32m    730\u001b[0m             \u001b[0;32mexcept\u001b[0m \u001b[0mException\u001b[0m\u001b[0;34m:\u001b[0m\u001b[0;34m\u001b[0m\u001b[0;34m\u001b[0m\u001b[0m\n",
            "\u001b[0;32m/usr/local/lib/python3.7/dist-packages/jupyter_client/session.py\u001b[0m in \u001b[0;36mrecv\u001b[0;34m(self, socket, mode, content, copy)\u001b[0m\n\u001b[1;32m    802\u001b[0m         \u001b[0;32mtry\u001b[0m\u001b[0;34m:\u001b[0m\u001b[0;34m\u001b[0m\u001b[0;34m\u001b[0m\u001b[0m\n\u001b[0;32m--> 803\u001b[0;31m             \u001b[0mmsg_list\u001b[0m \u001b[0;34m=\u001b[0m \u001b[0msocket\u001b[0m\u001b[0;34m.\u001b[0m\u001b[0mrecv_multipart\u001b[0m\u001b[0;34m(\u001b[0m\u001b[0mmode\u001b[0m\u001b[0;34m,\u001b[0m \u001b[0mcopy\u001b[0m\u001b[0;34m=\u001b[0m\u001b[0mcopy\u001b[0m\u001b[0;34m)\u001b[0m\u001b[0;34m\u001b[0m\u001b[0;34m\u001b[0m\u001b[0m\n\u001b[0m\u001b[1;32m    804\u001b[0m         \u001b[0;32mexcept\u001b[0m \u001b[0mzmq\u001b[0m\u001b[0;34m.\u001b[0m\u001b[0mZMQError\u001b[0m \u001b[0;32mas\u001b[0m \u001b[0me\u001b[0m\u001b[0;34m:\u001b[0m\u001b[0;34m\u001b[0m\u001b[0;34m\u001b[0m\u001b[0m\n",
            "\u001b[0;32m/usr/local/lib/python3.7/dist-packages/zmq/sugar/socket.py\u001b[0m in \u001b[0;36mrecv_multipart\u001b[0;34m(self, flags, copy, track)\u001b[0m\n\u001b[1;32m    624\u001b[0m         \"\"\"\n\u001b[0;32m--> 625\u001b[0;31m         \u001b[0mparts\u001b[0m \u001b[0;34m=\u001b[0m \u001b[0;34m[\u001b[0m\u001b[0mself\u001b[0m\u001b[0;34m.\u001b[0m\u001b[0mrecv\u001b[0m\u001b[0;34m(\u001b[0m\u001b[0mflags\u001b[0m\u001b[0;34m,\u001b[0m \u001b[0mcopy\u001b[0m\u001b[0;34m=\u001b[0m\u001b[0mcopy\u001b[0m\u001b[0;34m,\u001b[0m \u001b[0mtrack\u001b[0m\u001b[0;34m=\u001b[0m\u001b[0mtrack\u001b[0m\u001b[0;34m)\u001b[0m\u001b[0;34m]\u001b[0m\u001b[0;34m\u001b[0m\u001b[0;34m\u001b[0m\u001b[0m\n\u001b[0m\u001b[1;32m    626\u001b[0m         \u001b[0;31m# have first part already, only loop while more to receive\u001b[0m\u001b[0;34m\u001b[0m\u001b[0;34m\u001b[0m\u001b[0;34m\u001b[0m\u001b[0m\n",
            "\u001b[0;32mzmq/backend/cython/socket.pyx\u001b[0m in \u001b[0;36mzmq.backend.cython.socket.Socket.recv\u001b[0;34m()\u001b[0m\n",
            "\u001b[0;32mzmq/backend/cython/socket.pyx\u001b[0m in \u001b[0;36mzmq.backend.cython.socket.Socket.recv\u001b[0;34m()\u001b[0m\n",
            "\u001b[0;32mzmq/backend/cython/socket.pyx\u001b[0m in \u001b[0;36mzmq.backend.cython.socket._recv_copy\u001b[0;34m()\u001b[0m\n",
            "\u001b[0;32m/usr/local/lib/python3.7/dist-packages/zmq/backend/cython/checkrc.pxd\u001b[0m in \u001b[0;36mzmq.backend.cython.checkrc._check_rc\u001b[0;34m()\u001b[0m\n",
            "\u001b[0;31mKeyboardInterrupt\u001b[0m: ",
            "\nDuring handling of the above exception, another exception occurred:\n",
            "\u001b[0;31mKeyboardInterrupt\u001b[0m                         Traceback (most recent call last)",
            "\u001b[0;32m<ipython-input-12-a5d3d81efbb6>\u001b[0m in \u001b[0;36m<module>\u001b[0;34m()\u001b[0m\n\u001b[1;32m    156\u001b[0m \u001b[0mprint\u001b[0m\u001b[0;34m(\u001b[0m\u001b[0;34m\"                Welcome to the Bit Shifting Obfuscation program.\"\u001b[0m\u001b[0;34m)\u001b[0m\u001b[0;34m\u001b[0m\u001b[0;34m\u001b[0m\u001b[0m\n\u001b[1;32m    157\u001b[0m \u001b[0mprint\u001b[0m\u001b[0;34m(\u001b[0m\u001b[0;34m\"There are two functions that this program can perform. Type 'help' to see more info\"\u001b[0m\u001b[0;34m)\u001b[0m\u001b[0;34m\u001b[0m\u001b[0;34m\u001b[0m\u001b[0m\n\u001b[0;32m--> 158\u001b[0;31m \u001b[0moperation\u001b[0m \u001b[0;34m=\u001b[0m \u001b[0minput\u001b[0m\u001b[0;34m(\u001b[0m\u001b[0;34m\"Which bit shifting operation would you like to perform? Enter 'encode' or 'decode'. \"\u001b[0m\u001b[0;34m)\u001b[0m\u001b[0;34m\u001b[0m\u001b[0;34m\u001b[0m\u001b[0m\n\u001b[0m\u001b[1;32m    159\u001b[0m \u001b[0;34m\u001b[0m\u001b[0m\n\u001b[1;32m    160\u001b[0m \u001b[0;32mif\u001b[0m \u001b[0moperation\u001b[0m \u001b[0;34m==\u001b[0m \u001b[0;34m'1'\u001b[0m \u001b[0;32mor\u001b[0m \u001b[0moperation\u001b[0m \u001b[0;34m==\u001b[0m \u001b[0;34m'encode'\u001b[0m \u001b[0;32mor\u001b[0m \u001b[0moperation\u001b[0m \u001b[0;34m==\u001b[0m \u001b[0;34m'Encode'\u001b[0m \u001b[0;32mor\u001b[0m \u001b[0moperation\u001b[0m \u001b[0;34m==\u001b[0m \u001b[0;34m'e'\u001b[0m \u001b[0;32mor\u001b[0m \u001b[0moperation\u001b[0m \u001b[0;34m==\u001b[0m \u001b[0;34m'E'\u001b[0m\u001b[0;34m:\u001b[0m\u001b[0;34m\u001b[0m\u001b[0;34m\u001b[0m\u001b[0m\n",
            "\u001b[0;32m/usr/local/lib/python3.7/dist-packages/ipykernel/kernelbase.py\u001b[0m in \u001b[0;36mraw_input\u001b[0;34m(self, prompt)\u001b[0m\n\u001b[1;32m    702\u001b[0m             \u001b[0mself\u001b[0m\u001b[0;34m.\u001b[0m\u001b[0m_parent_ident\u001b[0m\u001b[0;34m,\u001b[0m\u001b[0;34m\u001b[0m\u001b[0;34m\u001b[0m\u001b[0m\n\u001b[1;32m    703\u001b[0m             \u001b[0mself\u001b[0m\u001b[0;34m.\u001b[0m\u001b[0m_parent_header\u001b[0m\u001b[0;34m,\u001b[0m\u001b[0;34m\u001b[0m\u001b[0;34m\u001b[0m\u001b[0m\n\u001b[0;32m--> 704\u001b[0;31m             \u001b[0mpassword\u001b[0m\u001b[0;34m=\u001b[0m\u001b[0;32mFalse\u001b[0m\u001b[0;34m,\u001b[0m\u001b[0;34m\u001b[0m\u001b[0;34m\u001b[0m\u001b[0m\n\u001b[0m\u001b[1;32m    705\u001b[0m         )\n\u001b[1;32m    706\u001b[0m \u001b[0;34m\u001b[0m\u001b[0m\n",
            "\u001b[0;32m/usr/local/lib/python3.7/dist-packages/ipykernel/kernelbase.py\u001b[0m in \u001b[0;36m_input_request\u001b[0;34m(self, prompt, ident, parent, password)\u001b[0m\n\u001b[1;32m    732\u001b[0m             \u001b[0;32mexcept\u001b[0m \u001b[0mKeyboardInterrupt\u001b[0m\u001b[0;34m:\u001b[0m\u001b[0;34m\u001b[0m\u001b[0;34m\u001b[0m\u001b[0m\n\u001b[1;32m    733\u001b[0m                 \u001b[0;31m# re-raise KeyboardInterrupt, to truncate traceback\u001b[0m\u001b[0;34m\u001b[0m\u001b[0;34m\u001b[0m\u001b[0;34m\u001b[0m\u001b[0m\n\u001b[0;32m--> 734\u001b[0;31m                 \u001b[0;32mraise\u001b[0m \u001b[0mKeyboardInterrupt\u001b[0m\u001b[0;34m\u001b[0m\u001b[0;34m\u001b[0m\u001b[0m\n\u001b[0m\u001b[1;32m    735\u001b[0m             \u001b[0;32melse\u001b[0m\u001b[0;34m:\u001b[0m\u001b[0;34m\u001b[0m\u001b[0;34m\u001b[0m\u001b[0m\n\u001b[1;32m    736\u001b[0m                 \u001b[0;32mbreak\u001b[0m\u001b[0;34m\u001b[0m\u001b[0;34m\u001b[0m\u001b[0m\n",
            "\u001b[0;31mKeyboardInterrupt\u001b[0m: "
          ]
        }
      ]
    }
  ],
  "metadata": {
    "colab": {
      "collapsed_sections": [
        "L5QHVC6PhNI9",
        "9UNDo-IkhLUT",
        "PgCiQ4Q_KF7S"
      ],
      "name": "Bit_Shifting_Project (1).ipynb",
      "provenance": []
    },
    "kernelspec": {
      "display_name": "Python 3",
      "name": "python3"
    },
    "language_info": {
      "name": "python"
    }
  },
  "nbformat": 4,
  "nbformat_minor": 0
}